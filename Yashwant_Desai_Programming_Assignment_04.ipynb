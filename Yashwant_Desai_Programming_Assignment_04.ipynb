{
 "cells": [
  {
   "cell_type": "markdown",
   "id": "0c27a818",
   "metadata": {},
   "source": [
    "# Yashwant Desai –  Programming_Assingment 04"
   ]
  },
  {
   "cell_type": "markdown",
   "id": "693799f7",
   "metadata": {},
   "source": [
    "# 1.\tWrite a Python Program to Find the Factorial of a Number?"
   ]
  },
  {
   "cell_type": "code",
   "execution_count": 1,
   "id": "400312de",
   "metadata": {},
   "outputs": [
    {
     "name": "stdout",
     "output_type": "stream",
     "text": [
      "enter number: 5\n",
      "factorial number is 120 for 5.\n"
     ]
    }
   ],
   "source": [
    "def find_factorial(number):\n",
    "    if number == 0 or number == 1:\n",
    "        return 1\n",
    "    else:\n",
    "        return number * find_factorial(number - 1) \n",
    "try:\n",
    "    user_num = int(input(\"enter number: \"))\n",
    "    outome = find_factorial(user_num)\n",
    "    print(f\"factorial number is {outome} for {user_num}.\")\n",
    "except ValueError:\n",
    "    print(\"error - please enter valid number\")    "
   ]
  },
  {
   "cell_type": "markdown",
   "id": "5153dc27",
   "metadata": {},
   "source": [
    "# 2.\tWrite a Python Program to Display the multiplication Table?"
   ]
  },
  {
   "cell_type": "code",
   "execution_count": 2,
   "id": "0095518e",
   "metadata": {},
   "outputs": [
    {
     "name": "stdout",
     "output_type": "stream",
     "text": [
      "enter number: 9\n",
      "1 x 9\n",
      "2 x 18\n",
      "3 x 27\n",
      "4 x 36\n",
      "5 x 45\n",
      "6 x 54\n",
      "7 x 63\n",
      "8 x 72\n",
      "9 x 81\n",
      "10 x 90\n",
      "None\n"
     ]
    }
   ],
   "source": [
    "def multiplicationtable(number):\n",
    "    for i in range(1,11):\n",
    "        outcome = number *i\n",
    "        print(f\"{i} x {outcome}\")\n",
    "try:\n",
    "    user_num = int(input(\"enter number: \"))\n",
    "    result = multiplicationtable(user_num)\n",
    "    print(result)\n",
    "except ValueError:\n",
    "    print(\"error - please enter valid number\")    "
   ]
  },
  {
   "cell_type": "markdown",
   "id": "ed5e3e01",
   "metadata": {},
   "source": [
    "# 3.\tWrite a Python Program to Print the Fibonacci sequence?"
   ]
  },
  {
   "cell_type": "code",
   "execution_count": 3,
   "id": "bb17fdcb",
   "metadata": {},
   "outputs": [
    {
     "name": "stdout",
     "output_type": "stream",
     "text": [
      "Enter number: 3\n",
      "Fibonacci Sequence:\n",
      "[0, 1, 1]\n"
     ]
    }
   ],
   "source": [
    "def fibonacci_sequence(number):\n",
    "    fib_info = []\n",
    "    a, b = 0, 1\n",
    "    for _ in range(number):\n",
    "        fib_info.append(a)\n",
    "        a, b = b, a + b\n",
    "    return fib_info\n",
    "try:\n",
    "    user_num = int(input(\"Enter number: \"))\n",
    "    if user_num <= 0:\n",
    "        print(\"Number is less than zero.\")\n",
    "    else:\n",
    "        sequence = fibonacci_sequence(user_num)\n",
    "        print(\"Fibonacci Sequence:\")\n",
    "        print(sequence)\n",
    "except ValueError:\n",
    "    print(\"Invalid input.\")"
   ]
  },
  {
   "cell_type": "markdown",
   "id": "2ee980ac",
   "metadata": {},
   "source": [
    "# 4.\tWrite a Python Program to Check Armstrong Number?"
   ]
  },
  {
   "cell_type": "code",
   "execution_count": 4,
   "id": "acc3f698",
   "metadata": {},
   "outputs": [
    {
     "name": "stdout",
     "output_type": "stream",
     "text": [
      "enter number: 7\n",
      "7 is armstrong number\n"
     ]
    }
   ],
   "source": [
    "def check_armstrong_number(number):\n",
    "    num_str = str(number)\n",
    "    num_digits = len(num_str)\n",
    "    armstrong_sum = sum(int(digit) ** num_digits for digit in num_str)\n",
    "    return armstrong_sum == number\n",
    "try:\n",
    "    user_num = int(input(\"enter number: \"))\n",
    "    if check_armstrong_number(user_num):\n",
    "        print(f\"{user_num} is armstrong number\")\n",
    "    else:\n",
    "        print(f\"{user_num} is not armstrong number\")\n",
    "except ValueError:\n",
    "    print(\"error - please enter valid number\")    "
   ]
  },
  {
   "cell_type": "markdown",
   "id": "240c9e7f",
   "metadata": {},
   "source": [
    "# 5.\tWrite a Python Program to Find Armstrong Number in an Interval?"
   ]
  },
  {
   "cell_type": "code",
   "execution_count": 5,
   "id": "d4ce95e1",
   "metadata": {},
   "outputs": [
    {
     "name": "stdout",
     "output_type": "stream",
     "text": [
      "enter start number: 1\n",
      "enter end number: 12\n",
      "armstrong number\n",
      "[1, 2, 3, 4, 5, 6, 7, 8, 9]\n"
     ]
    }
   ],
   "source": [
    "def check_armstrong_number(number):\n",
    "    num_str = str(number)\n",
    "    num_digits = len(num_str)\n",
    "    armstrong_sum = sum(int(digit) ** num_digits for digit in num_str)\n",
    "    return armstrong_sum == number\n",
    "\n",
    "def check_armstrong_number_in_interval(start, end):\n",
    "    armstrong_num = []\n",
    "    for number in range(start, end + 1):\n",
    "        if check_armstrong_number(number):\n",
    "            armstrong_num.append(number)\n",
    "    return armstrong_num\n",
    "try:\n",
    "    start_num = int(input(\"enter start number: \"))\n",
    "    end_num = int(input(\"enter end number: \"))\n",
    "    \n",
    "    if start_num > end_num:\n",
    "        print(\"not valid interval\")\n",
    "    else:\n",
    "        armstrong_num = check_armstrong_number_in_interval(start_num, end_num)\n",
    "    \n",
    "    if armstrong_num:\n",
    "        print(\"armstrong number\")\n",
    "        print(armstrong_num)\n",
    "    else:\n",
    "        print(\"not armstrong number\")\n",
    "except ValueError:\n",
    "    print(\"error - please enter valid number\")    "
   ]
  },
  {
   "cell_type": "markdown",
   "id": "07a71ff4",
   "metadata": {},
   "source": [
    "# 6.\tWrite a Python Program to Find the Sum of Natural Numbers?"
   ]
  },
  {
   "cell_type": "code",
   "execution_count": 7,
   "id": "569ecb0d",
   "metadata": {},
   "outputs": [
    {
     "name": "stdout",
     "output_type": "stream",
     "text": [
      "enter number: 12\n",
      "Sum of Natural Numbers till 12 is 78.\n"
     ]
    }
   ],
   "source": [
    "def find_natural_number(number):\n",
    "     return number * (number + 1) // 2\n",
    "try:\n",
    "    user_num = int(input(\"enter number: \"))\n",
    "    outome = find_natural_number(user_num)\n",
    "    print(f\"Sum of Natural Numbers till {user_num} is {outome}.\")\n",
    "except ValueError:\n",
    "    print(\"error - please enter valid number\")    "
   ]
  },
  {
   "cell_type": "markdown",
   "id": "a79c0885",
   "metadata": {},
   "source": [
    "# Done Regards,Yashwant"
   ]
  }
 ],
 "metadata": {
  "kernelspec": {
   "display_name": "Python 3 (ipykernel)",
   "language": "python",
   "name": "python3"
  },
  "language_info": {
   "codemirror_mode": {
    "name": "ipython",
    "version": 3
   },
   "file_extension": ".py",
   "mimetype": "text/x-python",
   "name": "python",
   "nbconvert_exporter": "python",
   "pygments_lexer": "ipython3",
   "version": "3.9.13"
  }
 },
 "nbformat": 4,
 "nbformat_minor": 5
}
